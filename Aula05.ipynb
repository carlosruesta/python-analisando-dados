{
  "nbformat": 4,
  "nbformat_minor": 0,
  "metadata": {
    "colab": {
      "name": "Aula05.ipynb",
      "provenance": [],
      "collapsed_sections": [],
      "authorship_tag": "ABX9TyPtWIEiJqA6aiMu1h/Agwwq",
      "include_colab_link": true
    },
    "kernelspec": {
      "name": "python3",
      "display_name": "Python 3"
    },
    "language_info": {
      "name": "python"
    }
  },
  "cells": [
    {
      "cell_type": "markdown",
      "metadata": {
        "id": "view-in-github",
        "colab_type": "text"
      },
      "source": [
        "<a href=\"https://colab.research.google.com/github/carlosruesta/python-analisando-dados/blob/master/Aula05.ipynb\" target=\"_parent\"><img src=\"https://colab.research.google.com/assets/colab-badge.svg\" alt=\"Open In Colab\"/></a>"
      ]
    },
    {
      "cell_type": "code",
      "metadata": {
        "id": "__AGqLVqBWgb"
      },
      "source": [
        "import pandas as pd\n",
        "import seaborn as sns\n",
        "import matplotlib.pyplot as plt\n",
        "\n",
        "sns.set()\n"
      ],
      "execution_count": 1,
      "outputs": []
    },
    {
      "cell_type": "code",
      "metadata": {
        "id": "7ymy2DrAL1RZ"
      },
      "source": [
        "# carregando os dados dos experimentos\n",
        "dados = pd.read_csv('https://github.com/alura-cursos/imersaodados3/blob/main/dados/dados_experimentos.zip?raw=true', compression= 'zip')\n",
        "mapa = {'droga':'composto'}\n",
        "dados.rename(columns=mapa, inplace=True)"
      ],
      "execution_count": 2,
      "outputs": []
    },
    {
      "cell_type": "code",
      "metadata": {
        "id": "7mq2NJuhLwqf"
      },
      "source": [
        "# carregando os dados dos resultados\n",
        "resultados = pd.read_csv('https://github.com/alura-cursos/imersaodados3/blob/main/dados/dados_resultados.csv?raw=true')"
      ],
      "execution_count": 3,
      "outputs": []
    },
    {
      "cell_type": "code",
      "metadata": {
        "id": "xxTIoMBzKvd_"
      },
      "source": [
        "# adicionando uma coluna com o numero de MOAs ativos\n",
        "resultados['n_moa'] = resultados.drop('id', axis=1).sum(axis=1)"
      ],
      "execution_count": 4,
      "outputs": []
    },
    {
      "cell_type": "code",
      "metadata": {
        "id": "dKHyKEt_JjPW"
      },
      "source": [
        "# flag que indica se algum MOA foi ativo\n",
        "resultados['ativo_moa'] = (resultados['n_moa'] != 0)"
      ],
      "execution_count": 5,
      "outputs": []
    },
    {
      "cell_type": "code",
      "metadata": {
        "id": "Pf7CBmRZKiw4"
      },
      "source": [
        "# merge das bases de dados entre resultados e dados dos experimentos\n",
        "# merge é uma função parecida com os joins do SQL\n",
        "data_combinados = pd.merge(dados, resultados[['id','n_moa', 'ativo_moa']], on='id')\n",
        "data_combinados['eh_controle'] = (data_combinados['tratamento'] == \"com_controle\")"
      ],
      "execution_count": 9,
      "outputs": []
    },
    {
      "cell_type": "code",
      "metadata": {
        "id": "byQo0PRLPPKD"
      },
      "source": [
        "data_combinados.head()"
      ],
      "execution_count": null,
      "outputs": []
    },
    {
      "cell_type": "code",
      "metadata": {
        "colab": {
          "base_uri": "https://localhost:8080/"
        },
        "id": "p9cWBPq63PIC",
        "outputId": "1b4a39b1-18c6-4548-8da3-d570afbf3181"
      },
      "source": [
        "from sklearn.linear_model import LogisticRegression\n",
        "from sklearn.model_selection import train_test_split\n",
        "\n",
        "x = data_combinados.select_dtypes('float64')\n",
        "y = data_combinados['ativo_moa']\n",
        "x_treino, x_teste, y_treino, y_teste = train_test_split(x, y, test_size=0.2, stratify=y, random_state=376)\n",
        "\n",
        "modelo_rlogistica = LogisticRegression(max_iter=1000)\n",
        "modelo_rlogistica.fit(x_treino,y_treino)\n",
        "modelo_rlogistica.score(x_teste, y_teste)"
      ],
      "execution_count": 11,
      "outputs": [
        {
          "output_type": "execute_result",
          "data": {
            "text/plain": [
              "0.6267058576527399"
            ]
          },
          "metadata": {
            "tags": []
          },
          "execution_count": 11
        }
      ]
    },
    {
      "cell_type": "code",
      "metadata": {
        "colab": {
          "base_uri": "https://localhost:8080/"
        },
        "id": "YYqIpTmaOR8f",
        "outputId": "e31a1ecf-6a90-4b09-dd87-d7f1b6e26fd4"
      },
      "source": [
        "from sklearn.dummy import DummyClassifier\n",
        "from sklearn.metrics import accuracy_score\n",
        "\n",
        "\n",
        "modelo_dummy = DummyClassifier('most_frequent')\n",
        "modelo_dummy.fit(x_treino, y_treino)\n",
        "previsao_dummy = modelo_dummy.predict(x_teste)\n",
        "accuracy_score(y_teste, previsao_dummy)"
      ],
      "execution_count": 12,
      "outputs": [
        {
          "output_type": "execute_result",
          "data": {
            "text/plain": [
              "0.6067604450976275"
            ]
          },
          "metadata": {
            "tags": []
          },
          "execution_count": 12
        }
      ]
    },
    {
      "cell_type": "code",
      "metadata": {
        "colab": {
          "base_uri": "https://localhost:8080/"
        },
        "id": "1dFTzthyOWGl",
        "outputId": "80ea07e9-84f7-4959-d5e2-00f0179ef37a"
      },
      "source": [
        "data_combinados['ativo_moa'].value_counts(normalize=True)"
      ],
      "execution_count": 13,
      "outputs": [
        {
          "output_type": "execute_result",
          "data": {
            "text/plain": [
              "True     0.60666\n",
              "False    0.39334\n",
              "Name: ativo_moa, dtype: float64"
            ]
          },
          "metadata": {
            "tags": []
          },
          "execution_count": 13
        }
      ]
    },
    {
      "cell_type": "code",
      "metadata": {
        "colab": {
          "base_uri": "https://localhost:8080/"
        },
        "id": "HCibWWe4OcNZ",
        "outputId": "1dfe236b-0621-4649-db0c-eb064cfc46d9"
      },
      "source": [
        "from sklearn.tree import DecisionTreeClassifier\n",
        "\n",
        "\n",
        "x = data_combinados.select_dtypes('float64')\n",
        "y = data_combinados['ativo_moa']\n",
        "x_treino, x_teste, y_treino, y_teste = train_test_split(x, y, test_size=0.2, stratify=y, random_state=376)\n",
        "\n",
        "modelo_arvore = DecisionTreeClassifier(max_depth = 3)\n",
        "modelo_arvore.fit(x_treino, y_treino)\n",
        "modelo_arvore.score(x_teste, y_teste)"
      ],
      "execution_count": 14,
      "outputs": [
        {
          "output_type": "execute_result",
          "data": {
            "text/plain": [
              "0.6105395758975436"
            ]
          },
          "metadata": {
            "tags": []
          },
          "execution_count": 14
        }
      ]
    },
    {
      "cell_type": "code",
      "metadata": {
        "id": "S-3wRlSJOgsz"
      },
      "source": [
        "from sklearn.tree import DecisionTreeClassifier\n",
        "\n",
        "\n",
        "x = data_combinados.select_dtypes('float64')\n",
        "y = data_combinados['ativo_moa']\n",
        "x_treino, x_teste, y_treino, y_teste = train_test_split(x, y, test_size=0.2, stratify=y, random_state=376)\n",
        "\n",
        "teste = []\n",
        "treino = []\n",
        "for i in range(1,15):\n",
        "    modelo_arvore = DecisionTreeClassifier(max_depth = i)\n",
        "    modelo_arvore.fit(x_treino, y_treino)\n",
        "    teste.append(modelo_arvore.score(x_teste, y_teste))\n",
        "    treino.append(modelo_arvore.score(x_treino, y_treino))"
      ],
      "execution_count": 15,
      "outputs": []
    },
    {
      "cell_type": "code",
      "metadata": {
        "colab": {
          "base_uri": "https://localhost:8080/"
        },
        "id": "hro4u80HOmu0",
        "outputId": "f0dbc48f-7348-47b3-80f5-70e9f9c395f5"
      },
      "source": [
        "teste"
      ],
      "execution_count": 16,
      "outputs": [
        {
          "output_type": "execute_result",
          "data": {
            "text/plain": [
              "[0.6067604450976275,\n",
              " 0.6067604450976275,\n",
              " 0.6105395758975436,\n",
              " 0.6199874028973336,\n",
              " 0.6208272097417594,\n",
              " 0.6189376443418014,\n",
              " 0.6206172580306529,\n",
              " 0.6197774511862272,\n",
              " 0.6166281755196305,\n",
              " 0.612639093008608,\n",
              " 0.6084400587864791,\n",
              " 0.5983623766533698,\n",
              " 0.5996220869200084,\n",
              " 0.5973126180978375]"
            ]
          },
          "metadata": {
            "tags": []
          },
          "execution_count": 16
        }
      ]
    },
    {
      "cell_type": "code",
      "metadata": {
        "colab": {
          "base_uri": "https://localhost:8080/"
        },
        "id": "pi_GZp_nPr00",
        "outputId": "984f168e-9f06-45af-9af6-5001806ae4fb"
      },
      "source": [
        "treino"
      ],
      "execution_count": 17,
      "outputs": [
        {
          "output_type": "execute_result",
          "data": {
            "text/plain": [
              "[0.6066348223190384,\n",
              " 0.6066348223190384,\n",
              " 0.6211222508004829,\n",
              " 0.6360820954280615,\n",
              " 0.6412261823526324,\n",
              " 0.6489423127394888,\n",
              " 0.6605427536612252,\n",
              " 0.6707259461445594,\n",
              " 0.6896225919899218,\n",
              " 0.706892026665267,\n",
              " 0.7293580389480867,\n",
              " 0.7529788462547897,\n",
              " 0.7771245603905307,\n",
              " 0.7990131751614088]"
            ]
          },
          "metadata": {
            "tags": []
          },
          "execution_count": 17
        }
      ]
    },
    {
      "cell_type": "code",
      "metadata": {
        "colab": {
          "base_uri": "https://localhost:8080/",
          "height": 285
        },
        "id": "DqnC96XvPuEm",
        "outputId": "3d34f6e6-7761-4849-f544-77b923b166e7"
      },
      "source": [
        "import seaborn as sns\n",
        "\n",
        "sns.set()\n",
        "\n",
        "sns.lineplot(x = range(1,15), y= teste, label='teste')\n",
        "sns.lineplot(x = range(1,15), y= treino, label='treino')"
      ],
      "execution_count": 18,
      "outputs": [
        {
          "output_type": "execute_result",
          "data": {
            "text/plain": [
              "<matplotlib.axes._subplots.AxesSubplot at 0x7f182cc7cc10>"
            ]
          },
          "metadata": {
            "tags": []
          },
          "execution_count": 18
        },
        {
          "output_type": "display_data",
          "data": {
            "image/png": "[encoded data removed]",
            "text/plain": [
              "<Figure size 432x288 with 1 Axes>"
            ]
          },
          "metadata": {
            "tags": []
          }
        }
      ]
    },
    {
      "cell_type": "code",
      "metadata": {
        "id": "H336fpZcPzkR"
      },
      "source": [
        "pd.get_dummies(data_combinados['tratamento'])"
      ],
      "execution_count": null,
      "outputs": []
    },
    {
      "cell_type": "code",
      "metadata": {
        "id": "CdcNDYR6P_mN"
      },
      "source": [
        "pd.get_dummies(data_combinados, columns=['tratamento','dose','tempo'])"
      ],
      "execution_count": null,
      "outputs": []
    },
    {
      "cell_type": "code",
      "metadata": {
        "colab": {
          "base_uri": "https://localhost:8080/"
        },
        "id": "uP-8qUqnQEOp",
        "outputId": "3a748141-523f-4453-a6ab-3967ba05c860"
      },
      "source": [
        "from sklearn.ensemble import RandomForestClassifier\n",
        "\n",
        "\n",
        "x = data_combinados.drop(['id','n_moa','ativo_moa', 'composto'], axis=1)\n",
        "x = pd.get_dummies(x, columns=['tratamento','dose','tempo']) \n",
        "y = data_combinados['ativo_moa']\n",
        "x_treino, x_teste, y_treino, y_teste = train_test_split(x, y, test_size=0.2, stratify=y, random_state=376)\n",
        "\n",
        "modelo_randomforest = RandomForestClassifier()\n",
        "modelo_randomforest.fit(x_treino, y_treino)\n",
        "modelo_randomforest.score(x_teste, y_teste)"
      ],
      "execution_count": 21,
      "outputs": [
        {
          "output_type": "execute_result",
          "data": {
            "text/plain": [
              "0.6884316607180349"
            ]
          },
          "metadata": {
            "tags": []
          },
          "execution_count": 21
        }
      ]
    },
    {
      "cell_type": "code",
      "metadata": {
        "id": "mZ-mLeC4QJ2N"
      },
      "source": [
        ""
      ],
      "execution_count": null,
      "outputs": []
    }
  ]
}