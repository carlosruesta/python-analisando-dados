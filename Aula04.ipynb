{
  "nbformat": 4,
  "nbformat_minor": 0,
  "metadata": {
    "colab": {
      "name": "Aula04.ipynb",
      "provenance": [],
      "collapsed_sections": [],
      "authorship_tag": "ABX9TyMa+e1mTWe7YXlPHCOpjjsz",
      "include_colab_link": true
    },
    "kernelspec": {
      "name": "python3",
      "display_name": "Python 3"
    },
    "language_info": {
      "name": "python"
    }
  },
  "cells": [
    {
      "cell_type": "markdown",
      "metadata": {
        "id": "view-in-github",
        "colab_type": "text"
      },
      "source": [
        "<a href=\"https://colab.research.google.com/github/carlosruesta/python-analisando-dados/blob/master/Aula04.ipynb\" target=\"_parent\"><img src=\"https://colab.research.google.com/assets/colab-badge.svg\" alt=\"Open In Colab\"/></a>"
      ]
    },
    {
      "cell_type": "code",
      "metadata": {
        "id": "__AGqLVqBWgb"
      },
      "source": [
        "import pandas as pd\n",
        "import seaborn as sns\n",
        "import matplotlib.pyplot as plt\n",
        "\n",
        "sns.set()\n"
      ],
      "execution_count": 1,
      "outputs": []
    },
    {
      "cell_type": "code",
      "metadata": {
        "id": "7ymy2DrAL1RZ"
      },
      "source": [
        "# carregando os dados dos experimentos\n",
        "dados = pd.read_csv('https://github.com/alura-cursos/imersaodados3/blob/main/dados/dados_experimentos.zip?raw=true', compression= 'zip')\n",
        "mapa = {'droga':'composto'}\n",
        "dados.rename(columns=mapa, inplace=True)"
      ],
      "execution_count": 2,
      "outputs": []
    },
    {
      "cell_type": "code",
      "metadata": {
        "id": "7mq2NJuhLwqf"
      },
      "source": [
        "# carregando os dados dos resultados\n",
        "resultados = pd.read_csv('https://github.com/alura-cursos/imersaodados3/blob/main/dados/dados_resultados.csv?raw=true')"
      ],
      "execution_count": 3,
      "outputs": []
    },
    {
      "cell_type": "code",
      "metadata": {
        "id": "AvQy8BZABfk3"
      },
      "source": [
        "resultados.head()"
      ],
      "execution_count": null,
      "outputs": []
    },
    {
      "cell_type": "code",
      "metadata": {
        "colab": {
          "base_uri": "https://localhost:8080/"
        },
        "id": "O4_Fx-3XBs3J",
        "outputId": "735a05af-a9a1-4310-970e-acd30dd351a1"
      },
      "source": [
        "resultados['acat_inhibitor'].unique()"
      ],
      "execution_count": 5,
      "outputs": [
        {
          "output_type": "execute_result",
          "data": {
            "text/plain": [
              "array([0, 1])"
            ]
          },
          "metadata": {
            "tags": []
          },
          "execution_count": 5
        }
      ]
    },
    {
      "cell_type": "code",
      "metadata": {
        "colab": {
          "base_uri": "https://localhost:8080/"
        },
        "id": "mMb2zHbcCDrk",
        "outputId": "728ed5bd-1c18-4351-85b1-099040b53134"
      },
      "source": [
        "resultados['acat_inhibitor'].value_counts()"
      ],
      "execution_count": 6,
      "outputs": [
        {
          "output_type": "execute_result",
          "data": {
            "text/plain": [
              "0    23790\n",
              "1       24\n",
              "Name: acat_inhibitor, dtype: int64"
            ]
          },
          "metadata": {
            "tags": []
          },
          "execution_count": 6
        }
      ]
    },
    {
      "cell_type": "code",
      "metadata": {
        "colab": {
          "base_uri": "https://localhost:8080/"
        },
        "id": "bI8DqiodDtrb",
        "outputId": "4900bda0-0fc7-4d84-9f14-99352670b604"
      },
      "source": [
        "contagem_moa = resultados.drop('id', axis=1).sum().sort_values(ascending=False)\n",
        "contagem_moa"
      ],
      "execution_count": 7,
      "outputs": [
        {
          "output_type": "execute_result",
          "data": {
            "text/plain": [
              "nfkb_inhibitor                                832\n",
              "proteasome_inhibitor                          726\n",
              "cyclooxygenase_inhibitor                      435\n",
              "dopamine_receptor_antagonist                  424\n",
              "serotonin_receptor_antagonist                 404\n",
              "                                             ... \n",
              "protein_phosphatase_inhibitor                   6\n",
              "autotaxin_inhibitor                             6\n",
              "diuretic                                        6\n",
              "erbb2_inhibitor                                 1\n",
              "atp-sensitive_potassium_channel_antagonist      1\n",
              "Length: 206, dtype: int64"
            ]
          },
          "metadata": {
            "tags": []
          },
          "execution_count": 7
        }
      ]
    },
    {
      "cell_type": "code",
      "metadata": {
        "colab": {
          "base_uri": "https://localhost:8080/"
        },
        "id": "pM-sy3kfEi5P",
        "outputId": "083abd8f-55ae-4dca-ea81-e834e46aebd5"
      },
      "source": [
        "contagem_moa = resultados.select_dtypes('int64').sum().sort_values(ascending=False)\n",
        "contagem_moa"
      ],
      "execution_count": 8,
      "outputs": [
        {
          "output_type": "execute_result",
          "data": {
            "text/plain": [
              "nfkb_inhibitor                                832\n",
              "proteasome_inhibitor                          726\n",
              "cyclooxygenase_inhibitor                      435\n",
              "dopamine_receptor_antagonist                  424\n",
              "serotonin_receptor_antagonist                 404\n",
              "                                             ... \n",
              "protein_phosphatase_inhibitor                   6\n",
              "autotaxin_inhibitor                             6\n",
              "diuretic                                        6\n",
              "erbb2_inhibitor                                 1\n",
              "atp-sensitive_potassium_channel_antagonist      1\n",
              "Length: 206, dtype: int64"
            ]
          },
          "metadata": {
            "tags": []
          },
          "execution_count": 8
        }
      ]
    },
    {
      "cell_type": "code",
      "metadata": {
        "colab": {
          "base_uri": "https://localhost:8080/"
        },
        "id": "aqMfdzwdEw6v",
        "outputId": "45b214fa-8eda-48c0-93aa-35b85da591cb"
      },
      "source": [
        "resultados.info()"
      ],
      "execution_count": 9,
      "outputs": [
        {
          "output_type": "stream",
          "text": [
            "<class 'pandas.core.frame.DataFrame'>\n",
            "RangeIndex: 23814 entries, 0 to 23813\n",
            "Columns: 207 entries, id to wnt_inhibitor\n",
            "dtypes: int64(206), object(1)\n",
            "memory usage: 37.6+ MB\n"
          ],
          "name": "stdout"
        }
      ]
    },
    {
      "cell_type": "code",
      "metadata": {
        "colab": {
          "base_uri": "https://localhost:8080/"
        },
        "id": "SEJ7snYyFE0b",
        "outputId": "fa589973-76aa-4767-d7a7-87486316ac73"
      },
      "source": [
        "# Desafio 1: Encontrar a frequencia por tipo de MOAs (Mechanisms Of Actions)\n",
        "actionList = []\n",
        "contagem_moa = resultados.select_dtypes('int64').sum().sort_values(ascending=False)\n",
        "for name in contagem_moa.index:\n",
        "    actionList.append(name.split('_')[-1])\n",
        "contagemActions = {i:actionList.count(i) for i in actionList}\n",
        "contagemActions"
      ],
      "execution_count": 10,
      "outputs": [
        {
          "output_type": "execute_result",
          "data": {
            "text/plain": [
              "{'activator': 5,\n",
              " 'agent': 3,\n",
              " 'agonist': 28,\n",
              " 'analgesic': 1,\n",
              " 'antagonist': 32,\n",
              " 'anti-inflammatory': 1,\n",
              " 'antiarrhythmic': 1,\n",
              " 'antibiotic': 1,\n",
              " 'anticonvulsant': 1,\n",
              " 'antifolate': 1,\n",
              " 'antifungal': 1,\n",
              " 'antihistamine': 1,\n",
              " 'antimalarial': 1,\n",
              " 'antioxidant': 1,\n",
              " 'antiprotozoal': 1,\n",
              " 'antiviral': 1,\n",
              " 'b': 1,\n",
              " 'blocker': 2,\n",
              " 'diuretic': 1,\n",
              " 'donor': 1,\n",
              " 'immunosuppressant': 1,\n",
              " 'inhibitor': 112,\n",
              " 'laxative': 1,\n",
              " 'local': 1,\n",
              " 'medium': 1,\n",
              " 'scavenger': 1,\n",
              " 'secretagogue': 1,\n",
              " 'sensitizer': 1,\n",
              " 'steroid': 1,\n",
              " 'stimulant': 1}"
            ]
          },
          "metadata": {
            "tags": []
          },
          "execution_count": 10
        }
      ]
    },
    {
      "cell_type": "code",
      "metadata": {
        "colab": {
          "base_uri": "https://localhost:8080/"
        },
        "id": "tSpXmY5zGRg4",
        "outputId": "ebe5e96e-03c4-4661-bf0c-e1a6e150d1cc"
      },
      "source": [
        "# quantos MOAs foram ativas em cada um dos experimentos\n",
        "resultados.drop('id', axis=1).sum(axis=1)"
      ],
      "execution_count": 11,
      "outputs": [
        {
          "output_type": "execute_result",
          "data": {
            "text/plain": [
              "0        1\n",
              "1        0\n",
              "2        3\n",
              "3        0\n",
              "4        1\n",
              "        ..\n",
              "23809    1\n",
              "23810    1\n",
              "23811    0\n",
              "23812    1\n",
              "23813    0\n",
              "Length: 23814, dtype: int64"
            ]
          },
          "metadata": {
            "tags": []
          },
          "execution_count": 11
        }
      ]
    },
    {
      "cell_type": "code",
      "metadata": {
        "colab": {
          "base_uri": "https://localhost:8080/"
        },
        "id": "rz4uA3JIJK1q",
        "outputId": "f2dbd70a-3ab1-42b1-bc18-8d52929f2f25"
      },
      "source": [
        "# quais experimentos ativaram mais actions\n",
        "resultados.drop('id', axis=1).sum(axis=1).sort_values(ascending=False)"
      ],
      "execution_count": 12,
      "outputs": [
        {
          "output_type": "execute_result",
          "data": {
            "text/plain": [
              "21197    7\n",
              "4849     7\n",
              "19186    7\n",
              "14316    7\n",
              "20584    7\n",
              "        ..\n",
              "6862     0\n",
              "6861     0\n",
              "11997    0\n",
              "6859     0\n",
              "23813    0\n",
              "Length: 23814, dtype: int64"
            ]
          },
          "metadata": {
            "tags": []
          },
          "execution_count": 12
        }
      ]
    },
    {
      "cell_type": "code",
      "metadata": {
        "id": "xxTIoMBzKvd_"
      },
      "source": [
        "# adicionando uma coluna com o numero de MOAs ativos\n",
        "resultados['n_moa'] = resultados.drop('id', axis=1).sum(axis=1)"
      ],
      "execution_count": 13,
      "outputs": []
    },
    {
      "cell_type": "code",
      "metadata": {
        "id": "dKHyKEt_JjPW"
      },
      "source": [
        "# flag que indica se algum MOA foi ativo\n",
        "resultados['ativo_moa'] = (resultados['n_moa'] != 0)"
      ],
      "execution_count": 14,
      "outputs": []
    },
    {
      "cell_type": "code",
      "metadata": {
        "id": "Pf7CBmRZKiw4"
      },
      "source": [
        "# merge das bases de dados entre resultados e dados dos experimentos\n",
        "# merge é uma função parecida com os joins do SQL\n",
        "data_combinados = pd.merge(dados, resultados[['id','n_moa', 'ativo_moa']], on='id')\n",
        "data_combinados"
      ],
      "execution_count": null,
      "outputs": []
    },
    {
      "cell_type": "code",
      "metadata": {
        "colab": {
          "base_uri": "https://localhost:8080/"
        },
        "id": "Kmy2qAATLbd1",
        "outputId": "af762f45-efbc-4545-a833-7ba2f3ecef94"
      },
      "source": [
        "# Será que algum tratamento com controle ativou algum MOA. O ideal é que não ative.... se ativou, tem coisa errada no controle!!\n",
        "data_combinados.query('tratamento == \"com_controle\"')['ativo_moa'].value_counts()"
      ],
      "execution_count": 16,
      "outputs": [
        {
          "output_type": "execute_result",
          "data": {
            "text/plain": [
              "False    1866\n",
              "Name: ativo_moa, dtype: int64"
            ]
          },
          "metadata": {
            "tags": []
          },
          "execution_count": 16
        }
      ]
    },
    {
      "cell_type": "code",
      "metadata": {
        "id": "BkMGcY2XNhuA"
      },
      "source": [
        "# Desafio 2: adicionar a \n",
        "data_combinados['eh_controle'] = (data_combinados['tratamento'] == \"com_controle\")"
      ],
      "execution_count": 17,
      "outputs": []
    },
    {
      "cell_type": "code",
      "metadata": {
        "id": "m54919CZOHaO"
      },
      "source": [
        "data_combinados.tail()"
      ],
      "execution_count": null,
      "outputs": []
    },
    {
      "cell_type": "code",
      "metadata": {
        "colab": {
          "base_uri": "https://localhost:8080/"
        },
        "id": "008XPdHZOJEU",
        "outputId": "50d3d205-bd7f-43ab-a180-f6db8108bb51"
      },
      "source": [
        "# quantos experimentos com droga ativaram algum MOA\n",
        "data_combinados.query('tratamento == \"com_droga\"')['ativo_moa'].value_counts()"
      ],
      "execution_count": 19,
      "outputs": [
        {
          "output_type": "execute_result",
          "data": {
            "text/plain": [
              "True     14447\n",
              "False     7501\n",
              "Name: ativo_moa, dtype: int64"
            ]
          },
          "metadata": {
            "tags": []
          },
          "execution_count": 19
        }
      ]
    },
    {
      "cell_type": "code",
      "metadata": {
        "colab": {
          "base_uri": "https://localhost:8080/",
          "height": 519
        },
        "id": "YuaJEDxhO3lz",
        "outputId": "40181586-82d0-45ba-bd7d-76e87ccd577c"
      },
      "source": [
        "# pega os 5 primeiros compostos mais utilizados e veja o impacto deles na expressão génica \"g-0\", mostrando ainda se nesses compostos teve a ativação de algum MOA\n",
        "composto_principal = data_combinados['composto'].value_counts().index[:5]\n",
        "\n",
        "plt.figure(figsize=(12,8))\n",
        "sns.boxplot(data = data_combinados.query('composto in @composto_principal'), y='g-0', x='composto', hue='ativo_moa')"
      ],
      "execution_count": 20,
      "outputs": [
        {
          "output_type": "execute_result",
          "data": {
            "text/plain": [
              "<matplotlib.axes._subplots.AxesSubplot at 0x7f010b868dd0>"
            ]
          },
          "metadata": {
            "tags": []
          },
          "execution_count": 20
        },
        {
          "output_type": "display_data",
          "data": {
            "image/png": "[encoded data removed]",
            "text/plain": [
              "<Figure size 864x576 with 1 Axes>"
            ]
          },
          "metadata": {
            "tags": [],
            "needs_background": "light"
          }
        }
      ]
    },
    {
      "cell_type": "code",
      "metadata": {
        "id": "byQo0PRLPPKD"
      },
      "source": [
        ""
      ],
      "execution_count": 20,
      "outputs": []
    }
  ]
}