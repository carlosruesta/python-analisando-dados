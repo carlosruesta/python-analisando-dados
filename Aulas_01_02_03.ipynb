{
  "nbformat": 4,
  "nbformat_minor": 0,
  "metadata": {
    "colab": {
      "name": "Aulas_01-02-03.ipynb",
      "provenance": [],
      "collapsed_sections": [],
      "toc_visible": true,
      "authorship_tag": "ABX9TyPkOQkmWJyP8fKStLPFC2Yd",
      "include_colab_link": true
    },
    "kernelspec": {
      "name": "python3",
      "display_name": "Python 3"
    },
    "language_info": {
      "name": "python"
    }
  },
  "cells": [
    {
      "cell_type": "markdown",
      "metadata": {
        "id": "view-in-github",
        "colab_type": "text"
      },
      "source": [
        "<a href=\"https://colab.research.google.com/github/carlosruesta/python-analisando-dados/blob/master/Aulas_01_02_03.ipynb\" target=\"_parent\"><img src=\"https://colab.research.google.com/assets/colab-badge.svg\" alt=\"Open In Colab\"/></a>"
      ]
    },
    {
      "cell_type": "code",
      "metadata": {
        "id": "KBFmi_M0_Br4"
      },
      "source": [
        "import pandas as pd\n",
        "\n",
        "dados = pd.read_csv('https://github.com/alura-cursos/imersaodados3/blob/main/dados/dados_experimentos.zip?raw=true', compression='zip')\n",
        "\n",
        "dados"
      ],
      "execution_count": null,
      "outputs": []
    },
    {
      "cell_type": "code",
      "metadata": {
        "id": "cuZ_sh6B_McD"
      },
      "source": [
        "dados.head()"
      ],
      "execution_count": null,
      "outputs": []
    },
    {
      "cell_type": "code",
      "metadata": {
        "colab": {
          "base_uri": "https://localhost:8080/"
        },
        "id": "tPAlcJrOD1zP",
        "outputId": "bbb2eea6-2c9c-4a8e-bafb-a93aba18d938"
      },
      "source": [
        "dados['tratamento']"
      ],
      "execution_count": null,
      "outputs": [
        {
          "output_type": "execute_result",
          "data": {
            "text/plain": [
              "0           com_droga\n",
              "1           com_droga\n",
              "2           com_droga\n",
              "3           com_droga\n",
              "4           com_droga\n",
              "             ...     \n",
              "23809       com_droga\n",
              "23810       com_droga\n",
              "23811    com_controle\n",
              "23812       com_droga\n",
              "23813       com_droga\n",
              "Name: tratamento, Length: 23814, dtype: object"
            ]
          },
          "metadata": {
            "tags": []
          },
          "execution_count": 8
        }
      ]
    },
    {
      "cell_type": "code",
      "metadata": {
        "colab": {
          "base_uri": "https://localhost:8080/"
        },
        "id": "YI6tRVB9EzLq",
        "outputId": "0c86b781-c4ae-49e2-c2b9-770de1984170"
      },
      "source": [
        "dados['tratamento'].unique()"
      ],
      "execution_count": null,
      "outputs": [
        {
          "output_type": "execute_result",
          "data": {
            "text/plain": [
              "array(['com_droga', 'com_controle'], dtype=object)"
            ]
          },
          "metadata": {
            "tags": []
          },
          "execution_count": 9
        }
      ]
    },
    {
      "cell_type": "code",
      "metadata": {
        "colab": {
          "base_uri": "https://localhost:8080/"
        },
        "id": "fx862IcNE55t",
        "outputId": "5f46fc4e-3465-4d37-d81a-e82a33f38365"
      },
      "source": [
        "dados['tempo']"
      ],
      "execution_count": null,
      "outputs": [
        {
          "output_type": "execute_result",
          "data": {
            "text/plain": [
              "0        24\n",
              "1        72\n",
              "2        48\n",
              "3        48\n",
              "4        72\n",
              "         ..\n",
              "23809    24\n",
              "23810    24\n",
              "23811    48\n",
              "23812    24\n",
              "23813    72\n",
              "Name: tempo, Length: 23814, dtype: int64"
            ]
          },
          "metadata": {
            "tags": []
          },
          "execution_count": 10
        }
      ]
    },
    {
      "cell_type": "code",
      "metadata": {
        "colab": {
          "base_uri": "https://localhost:8080/"
        },
        "id": "-3nsvAQjE8y2",
        "outputId": "68ec5350-6a03-4d75-f350-3dc28b1037c3"
      },
      "source": [
        "dados['tempo'].unique()"
      ],
      "execution_count": null,
      "outputs": [
        {
          "output_type": "execute_result",
          "data": {
            "text/plain": [
              "3"
            ]
          },
          "metadata": {
            "tags": []
          },
          "execution_count": 4
        }
      ]
    },
    {
      "cell_type": "code",
      "metadata": {
        "colab": {
          "base_uri": "https://localhost:8080/"
        },
        "id": "cXbR0AUxFHLJ",
        "outputId": "3f6e6bbe-7557-4869-a3f7-198ce72b781c"
      },
      "source": [
        "dados['droga'].value_counts()\n",
        "dados['droga'].nunique()"
      ],
      "execution_count": null,
      "outputs": [
        {
          "output_type": "execute_result",
          "data": {
            "text/plain": [
              "3289"
            ]
          },
          "metadata": {
            "tags": []
          },
          "execution_count": 5
        }
      ]
    },
    {
      "cell_type": "code",
      "metadata": {
        "colab": {
          "base_uri": "https://localhost:8080/"
        },
        "id": "w-0Le9TqGpMo",
        "outputId": "75d81275-e00f-463d-b516-26a8d83d4472"
      },
      "source": [
        "dados['g-0']"
      ],
      "execution_count": null,
      "outputs": [
        {
          "output_type": "execute_result",
          "data": {
            "text/plain": [
              "0        1.0620\n",
              "1        0.0743\n",
              "2        0.6280\n",
              "3       -0.5138\n",
              "4       -0.3254\n",
              "          ...  \n",
              "23809    0.1394\n",
              "23810   -1.3260\n",
              "23811    0.3942\n",
              "23812    0.6660\n",
              "23813   -0.8598\n",
              "Name: g-0, Length: 23814, dtype: float64"
            ]
          },
          "metadata": {
            "tags": []
          },
          "execution_count": 15
        }
      ]
    },
    {
      "cell_type": "code",
      "metadata": {
        "colab": {
          "base_uri": "https://localhost:8080/"
        },
        "id": "Wo6dNa5mFkad",
        "outputId": "67bde5b0-115a-4417-c90a-1f181e13f968"
      },
      "source": [
        "dados['tratamento'].value_counts()"
      ],
      "execution_count": null,
      "outputs": [
        {
          "output_type": "execute_result",
          "data": {
            "text/plain": [
              "com_droga       21948\n",
              "com_controle     1866\n",
              "Name: tratamento, dtype: int64"
            ]
          },
          "metadata": {
            "tags": []
          },
          "execution_count": 16
        }
      ]
    },
    {
      "cell_type": "code",
      "metadata": {
        "id": "VoN8AXn7WRaB"
      },
      "source": [
        "dados.tail()"
      ],
      "execution_count": null,
      "outputs": []
    },
    {
      "cell_type": "code",
      "metadata": {
        "id": "D82CA7NHcE2B"
      },
      "source": [
        "dados.head()"
      ],
      "execution_count": null,
      "outputs": []
    },
    {
      "cell_type": "code",
      "metadata": {
        "id": "J0Tb45jFeTDa"
      },
      "source": [
        "dados.columns= dados.columns.str.replace('-','',regex=True)"
      ],
      "execution_count": null,
      "outputs": []
    },
    {
      "cell_type": "markdown",
      "metadata": {
        "id": "CinoZ1JVWVpu"
      },
      "source": [
        "###Desafio 01\n",
        "Investigar por que o tratamento está tão desbalanceada\n",
        "\n",
        "###Desafio 02\n",
        "Como plotar as 5 ultimas linhas da tabelona\n",
        "\n",
        "###Desafio 03\n",
        "Proporção da classe tratamento\n",
        "\n",
        "###Desafio 04\n",
        "Quantos tipos de drogras foram investigadas?\n",
        "\n",
        "###Desafio 05\n",
        "Procurar na documentação o método query(pandas)\n",
        "\n",
        "###Desafio 06\n",
        "Renomear as colunas que tem os hífens\n",
        "\n",
        "###Desafio 07 \n",
        "Deixar os gráficos bonitões(Matplotlib.pyplot)\n",
        "\n",
        "###Desafio 08\n",
        "Resumo"
      ]
    },
    {
      "cell_type": "code",
      "metadata": {
        "colab": {
          "base_uri": "https://localhost:8080/",
          "height": 285
        },
        "id": "HJR_OPSwh0OR",
        "outputId": "870fe091-d773-47a4-84b0-f0e3eb67d320"
      },
      "source": [
        "dados['tempo'].value_counts().plot.bar()"
      ],
      "execution_count": null,
      "outputs": [
        {
          "output_type": "execute_result",
          "data": {
            "text/plain": [
              "<matplotlib.axes._subplots.AxesSubplot at 0x7f283fefd050>"
            ]
          },
          "metadata": {
            "tags": []
          },
          "execution_count": 6
        },
        {
          "output_type": "display_data",
          "data": {
            "image/png": "[encoded data removed]",
            "text/plain": [
              "<Figure size 432x288 with 1 Axes>"
            ]
          },
          "metadata": {
            "tags": [],
            "needs_background": "light"
          }
        }
      ]
    },
    {
      "cell_type": "code",
      "metadata": {
        "colab": {
          "base_uri": "https://localhost:8080/"
        },
        "id": "0c8lc2q6hx0E",
        "outputId": "eb673e7e-6d25-4501-9bd7-39b0ff040fa2"
      },
      "source": [
        "# proporção dos valores valores\n",
        "dados['dose'].value_counts(normalize=True)"
      ],
      "execution_count": null,
      "outputs": [
        {
          "output_type": "execute_result",
          "data": {
            "text/plain": [
              "D1    0.510078\n",
              "D2    0.489922\n",
              "Name: dose, dtype: float64"
            ]
          },
          "metadata": {
            "tags": []
          },
          "execution_count": 8
        }
      ]
    },
    {
      "cell_type": "code",
      "metadata": {
        "colab": {
          "base_uri": "https://localhost:8080/"
        },
        "id": "FMlgUrgCz0Gl",
        "outputId": "a8077c57-2404-4971-d9b2-0b63686f87e4"
      },
      "source": [
        "# proporção percentual dos valores valores\n",
        "dados['dose'].value_counts(normalize=True) * 100"
      ],
      "execution_count": null,
      "outputs": [
        {
          "output_type": "execute_result",
          "data": {
            "text/plain": [
              "D1    51.007811\n",
              "D2    48.992189\n",
              "Name: dose, dtype: float64"
            ]
          },
          "metadata": {
            "tags": []
          },
          "execution_count": 9
        }
      ]
    },
    {
      "cell_type": "code",
      "metadata": {
        "colab": {
          "base_uri": "https://localhost:8080/",
          "height": 265
        },
        "id": "rGSpcyxz0GGD",
        "outputId": "d302d97d-9c49-4015-f54e-83c7b08b3ec3"
      },
      "source": [
        "# proporção dos valores valores\n",
        "(dados['dose'].value_counts(normalize=True) * 100).plot.pie()"
      ],
      "execution_count": null,
      "outputs": [
        {
          "output_type": "execute_result",
          "data": {
            "text/plain": [
              "<matplotlib.axes._subplots.AxesSubplot at 0x7f283f62a590>"
            ]
          },
          "metadata": {
            "tags": []
          },
          "execution_count": 10
        },
        {
          "output_type": "display_data",
          "data": {
            "image/png": "[encoded data removed]",
            "text/plain": [
              "<Figure size 432x288 with 1 Axes>"
            ]
          },
          "metadata": {
            "tags": []
          }
        }
      ]
    },
    {
      "cell_type": "code",
      "metadata": {
        "id": "hcgaJJ2X0iFf"
      },
      "source": [
        ""
      ],
      "execution_count": null,
      "outputs": []
    }
  ]
}